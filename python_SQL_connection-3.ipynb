{
 "cells": [
  {
   "cell_type": "code",
   "execution_count": null,
   "metadata": {},
   "outputs": [],
   "source": [
    "!pip install mysql-connector-python\n",
    "\n",
    "import mysql.connector as connector\n",
    "\n",
    "connection = connector.connect(user = \"Ameri.Masoud\", password = \"123456789\")\n",
    "print(\"Connection between MySQL and Python is established.\\n\")\n",
    "\n",
    "\n",
    "connection = connector.connect(user = \"your_username\", password = \"your_password\", db = \"database_name\") \n",
    "\n",
    "cursor = connection.cursor()\n",
    "print(\"Cursor is created to communicate with the MySQL using Python.\\n\")\n",
    "\n",
    "\n",
    "show_tables_query = \"SHOW tables\" \n",
    "cursor.execute(show_tables_query)\n",
    "\n",
    "\n",
    "results = cursor.fetchall()\n",
    "print(results)\n",
    "\n",
    "query = \"\"\"\n",
    "SELECT\n",
    "    FullName,\n",
    "    ContactNumber,\n",
    "    TotalCost\n",
    "FROM\n",
    "    littlelemon.orders o \n",
    "JOIN\n",
    "    littlelemon.customers c \n",
    "ON \n",
    "    o.CustomerID = c.CustomerID\n",
    "WHERE\n",
    "    TotalCost > 60\n",
    "\"\"\"\n",
    "cursor.execute(query)\n",
    "\n",
    "\n",
    "results = cursor.fetchall()\n",
    "for item in results:\n",
    "    print(item)"
   ]
  }
 ],
 "metadata": {
  "kernelspec": {
   "display_name": "Python 3",
   "language": "python",
   "name": "python3"
  },
  "language_info": {
   "name": "python",
   "version": "3.10.9 (tags/v3.10.9:1dd9be6, Dec  6 2022, 20:01:21) [MSC v.1934 64 bit (AMD64)]"
  },
  "orig_nbformat": 4,
  "vscode": {
   "interpreter": {
    "hash": "8a76e3df2db34de87185a606c3cb39044fdf2512d3c4e61f2895fc305b20440c"
   }
  }
 },
 "nbformat": 4,
 "nbformat_minor": 2
}
